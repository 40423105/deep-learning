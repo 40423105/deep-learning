{
 "cells": [
  {
   "cell_type": "markdown",
   "metadata": {},
   "source": [
    "# 讀取資料"
   ]
  },
  {
   "cell_type": "code",
   "execution_count": 1,
   "metadata": {},
   "outputs": [
    {
     "name": "stdout",
     "output_type": "stream",
     "text": [
      "WARNING:tensorflow:From D:\\program\\anaconda\\envs\\tensorflow\\lib\\site-packages\\tensorflow\\python\\compat\\v2_compat.py:96: disable_resource_variables (from tensorflow.python.ops.variable_scope) is deprecated and will be removed in a future version.\n",
      "Instructions for updating:\n",
      "non-resource variables are not supported in the long term\n",
      "Extracting MNIST_data/train-images-idx3-ubyte.gz\n",
      "Extracting MNIST_data/train-labels-idx1-ubyte.gz\n",
      "Extracting MNIST_data/t10k-images-idx3-ubyte.gz\n",
      "Extracting MNIST_data/t10k-labels-idx1-ubyte.gz\n"
     ]
    }
   ],
   "source": [
    "import tensorflow.compat.v1 as tf\n",
    "tf.disable_v2_behavior()\n",
    "import tensorflow.examples.tutorials.mnist.input_data as input_data\n",
    "\n",
    "mnist = input_data.read_data_sets(\"MNIST_data/\",one_hot = True)\n"
   ]
  },
  {
   "cell_type": "code",
   "execution_count": 2,
   "metadata": {},
   "outputs": [
    {
     "name": "stdout",
     "output_type": "stream",
     "text": [
      "train images: (55000, 784) label: (55000, 10)\n",
      "validation images: (5000, 784) labels: (5000, 10)\n",
      "test images: (10000, 784) labels: (10000, 10)\n"
     ]
    }
   ],
   "source": [
    "print('train images:',mnist.train.images.shape ,'label:',mnist.train.labels.shape)\n",
    "print('validation images:',mnist.validation.images.shape,'labels:',mnist.validation.labels.shape)\n",
    "print('test images:',mnist.test.images.shape,'labels:',mnist.test.labels.shape)"
   ]
  },
  {
   "cell_type": "markdown",
   "metadata": {},
   "source": [
    "# 建立layer函數"
   ]
  },
  {
   "cell_type": "code",
   "execution_count": 3,
   "metadata": {},
   "outputs": [],
   "source": [
    "def layer(output_dim,input_dim,inputs,activation=None):\n",
    "    w = tf.Variable(tf.random_normal([input_dim,output_dim]))\n",
    "    b = tf.Variable(tf.random_normal([1,output_dim]))\n",
    "    xwb = tf.matmul(inputs,w)+b\n",
    "    \n",
    "    if activation is None:\n",
    "        outputs = xwb\n",
    "    else:\n",
    "        outputs = activation(xwb)\n",
    "    return outputs"
   ]
  },
  {
   "cell_type": "markdown",
   "metadata": {},
   "source": [
    "# 建立輸入層x"
   ]
  },
  {
   "cell_type": "code",
   "execution_count": 4,
   "metadata": {},
   "outputs": [],
   "source": [
    "x = tf.placeholder(\"float\",[None,784])"
   ]
  },
  {
   "cell_type": "markdown",
   "metadata": {},
   "source": [
    "# 建立隱藏層h1"
   ]
  },
  {
   "cell_type": "code",
   "execution_count": 5,
   "metadata": {},
   "outputs": [],
   "source": [
    "h1 = layer(output_dim=1000,input_dim=784,inputs=x,activation=tf.nn.relu)"
   ]
  },
  {
   "cell_type": "markdown",
   "metadata": {},
   "source": [
    "# 建立輸出層y"
   ]
  },
  {
   "cell_type": "code",
   "execution_count": 6,
   "metadata": {},
   "outputs": [],
   "source": [
    "y_predict = layer(output_dim=10,input_dim=1000,inputs=h1,activation=None)"
   ]
  },
  {
   "cell_type": "markdown",
   "metadata": {},
   "source": [
    "# 定義訓練方式"
   ]
  },
  {
   "cell_type": "code",
   "execution_count": 7,
   "metadata": {},
   "outputs": [],
   "source": [
    "#建立訓練資料label真實值的placeholder\n",
    "y_label = tf.placeholder(\"float\",[None,10])"
   ]
  },
  {
   "cell_type": "code",
   "execution_count": 8,
   "metadata": {},
   "outputs": [],
   "source": [
    "#定義loss function(cross entropy)\n",
    "loss_function = tf.reduce_mean(tf.nn.softmax_cross_entropy_with_logits_v2(labels=y_label, logits=y_predict))"
   ]
  },
  {
   "cell_type": "code",
   "execution_count": 9,
   "metadata": {},
   "outputs": [],
   "source": [
    "#定義optimizer最優化方法\n",
    "optimizer = tf.train.AdamOptimizer(learning_rate=0.001).minimize(loss_function)"
   ]
  },
  {
   "cell_type": "code",
   "execution_count": 10,
   "metadata": {},
   "outputs": [],
   "source": [
    "#定義評估模型準確率\n",
    "correct_prediction = tf.equal(tf.argmax(y_label,1),tf.argmax(y_predict,1))\n",
    "accuracy = tf.reduce_mean(tf.cast(correct_prediction,\"float\"))"
   ]
  },
  {
   "cell_type": "markdown",
   "metadata": {},
   "source": [
    "# 訓練模型"
   ]
  },
  {
   "cell_type": "code",
   "execution_count": 11,
   "metadata": {},
   "outputs": [],
   "source": [
    "#定義訓練參數\n",
    "trainepochs = 15\n",
    "batchsize = 100\n",
    "totalbatchs = int(mnist.train.num_examples/batchsize)\n",
    "epoch_list=[];loss_list=[];accuracy_list=[]\n",
    "from time import time\n",
    "starttime=time()\n",
    "sess = tf.Session()\n",
    "sess.run(tf.global_variables_initializer())"
   ]
  },
  {
   "cell_type": "code",
   "execution_count": 12,
   "metadata": {},
   "outputs": [
    {
     "name": "stdout",
     "output_type": "stream",
     "text": [
      "Train Epoch: 01 loss= 9.102302551 Accuracy= 0.8864\n",
      "Train Epoch: 02 loss= 5.975547791 Accuracy= 0.914\n",
      "Train Epoch: 03 loss= 4.902111053 Accuracy= 0.9226\n",
      "Train Epoch: 04 loss= 3.995733500 Accuracy= 0.931\n",
      "Train Epoch: 05 loss= 3.349400043 Accuracy= 0.938\n",
      "Train Epoch: 06 loss= 3.302594185 Accuracy= 0.9394\n",
      "Train Epoch: 07 loss= 3.028103352 Accuracy= 0.947\n",
      "Train Epoch: 08 loss= 2.826002359 Accuracy= 0.9464\n",
      "Train Epoch: 09 loss= 2.883895397 Accuracy= 0.9474\n",
      "Train Epoch: 10 loss= 2.506371975 Accuracy= 0.9524\n",
      "Train Epoch: 11 loss= 2.586598158 Accuracy= 0.9516\n",
      "Train Epoch: 12 loss= 2.384158134 Accuracy= 0.9528\n",
      "Train Epoch: 13 loss= 2.643322229 Accuracy= 0.9508\n",
      "Train Epoch: 14 loss= 2.381498337 Accuracy= 0.9536\n",
      "Train Epoch: 15 loss= 2.456316471 Accuracy= 0.9586\n",
      "Train Finished takes: 43.777387857437134\n"
     ]
    }
   ],
   "source": [
    "for epoch in range(trainepochs):\n",
    "    for i in range(totalbatchs):\n",
    "        batch_x,batch_y = mnist.train.next_batch(batchsize)\n",
    "        sess.run(optimizer,feed_dict={x:batch_x,\n",
    "                                      y_label:batch_y})\n",
    "    loss,acc = sess.run([loss_function,accuracy],feed_dict={x:mnist.validation.images,\n",
    "                                                            y_label:mnist.validation.labels})\n",
    "    epoch_list.append(epoch)\n",
    "    loss_list.append(loss)\n",
    "    accuracy_list.append(acc)\n",
    "    print(\"Train Epoch:\",'%02d' % (epoch+1),\"loss=\",\\\n",
    "          \"{:.9f}\".format(loss),\"Accuracy=\",acc)\n",
    "duration = time()-starttime\n",
    "print(\"Train Finished takes:\",duration)"
   ]
  },
  {
   "cell_type": "code",
   "execution_count": 13,
   "metadata": {},
   "outputs": [
    {
     "data": {
      "text/plain": [
       "<matplotlib.legend.Legend at 0x162839def60>"
      ]
     },
     "execution_count": 13,
     "metadata": {},
     "output_type": "execute_result"
    }
   ],
   "source": [
    "import matplotlib.pyplot as plt\n",
    "fig = plt.gcf()\n",
    "fig.set_size_inches(6,4)\n",
    "plt.plot(epoch_list,loss_list,label='loss')\n",
    "plt.ylabel('loss')\n",
    "plt.xlabel('epoch')\n",
    "plt.legend(['loss'],loc='upper left')"
   ]
  },
  {
   "cell_type": "code",
   "execution_count": 14,
   "metadata": {},
   "outputs": [
    {
     "data": {
      "image/png": "[encoded data removed]",
      "text/plain": [
       "<Figure size 432x288 with 1 Axes>"
      ]
     },
     "metadata": {},
     "output_type": "display_data"
    }
   ],
   "source": [
    "plt.plot(epoch_list,accuracy_list,label='accuracy')\n",
    "fig = plt.gcf()\n",
    "fig.set_size_inches(6,4)\n",
    "plt.ylim(0.4,1)\n",
    "plt.ylabel('accuracy')\n",
    "plt.xlabel('epoch')\n",
    "plt.legend()\n",
    "plt.show()"
   ]
  },
  {
   "cell_type": "code",
   "execution_count": 15,
   "metadata": {},
   "outputs": [
    {
     "name": "stdout",
     "output_type": "stream",
     "text": [
      "Accuracy: 0.957\n"
     ]
    }
   ],
   "source": [
    "#評估模型準確率\n",
    "print(\"Accuracy:\",sess.run(accuracy,feed_dict={x:mnist.test.images,\n",
    "                                               y_label:mnist.test.labels}))"
   ]
  },
  {
   "cell_type": "code",
   "execution_count": 16,
   "metadata": {},
   "outputs": [
    {
     "data": {
      "text/plain": [
       "array([7, 2, 1, 0, 4, 1, 8, 9, 6, 9], dtype=int64)"
      ]
     },
     "execution_count": 16,
     "metadata": {},
     "output_type": "execute_result"
    }
   ],
   "source": [
    "#預測\n",
    "prediction_result = sess.run(tf.argmax(y_predict,1),feed_dict={x:mnist.test.images})\n",
    "prediction_result[:10]"
   ]
  },
  {
   "cell_type": "code",
   "execution_count": 17,
   "metadata": {},
   "outputs": [],
   "source": [
    "import numpy as np\n",
    "def plot_image_labels_prediction(images,labels,prediction,idx,num=10):\n",
    "    fig = plt.gcf()\n",
    "    fig.set_size_inches(12,14)\n",
    "    if num > 25:\n",
    "        num=25\n",
    "    for i in range(0,num):\n",
    "        ax = plt.subplot(5,5,1+i)\n",
    "        ax.imshow(np.reshape(images[idx],(28,28)),cmap='binary')\n",
    "        title = \"label=\" + str(labels[idx])\n",
    "        if len(prediction) > 0:\n",
    "            title += \",predict=\" + str(prediction[idx])\n",
    "        \n",
    "        ax.set_title(title,fontsize=10)\n",
    "        ax.set_xticks([]);ax.set_yticks([])\n",
    "        idx+=1\n",
    "    plt.show()"
   ]
  },
  {
   "cell_type": "code",
   "execution_count": 18,
   "metadata": {},
   "outputs": [
    {
     "name": "stdout",
     "output_type": "stream",
     "text": [
      "Extracting MNIST_data/train-images-idx3-ubyte.gz\n",
      "Extracting MNIST_data/train-labels-idx1-ubyte.gz\n",
      "Extracting MNIST_data/t10k-images-idx3-ubyte.gz\n",
      "Extracting MNIST_data/t10k-labels-idx1-ubyte.gz\n"
     ]
    },
    {
     "data": {
      "image/png": "[encoded data removed]",
      "text/plain": [
       "<Figure size 864x1008 with 10 Axes>"
      ]
     },
     "metadata": {},
     "output_type": "display_data"
    }
   ],
   "source": [
    "decoded = input_data.read_data_sets(\"MNIST_data/\",one_hot = False)\n",
    "decoded.test.labels\n",
    "plot_image_labels_prediction(mnist.test.images,decoded.test.labels,prediction_result,idx=0)"
   ]
  },
  {
   "cell_type": "code",
   "execution_count": null,
   "metadata": {},
   "outputs": [],
   "source": []
  }
 ],
 "metadata": {
  "kernelspec": {
   "display_name": "Python 3",
   "language": "python",
   "name": "python3"
  },
  "language_info": {
   "codemirror_mode": {
    "name": "ipython",
    "version": 3
   },
   "file_extension": ".py",
   "mimetype": "text/x-python",
   "name": "python",
   "nbconvert_exporter": "python",
   "pygments_lexer": "ipython3",
   "version": "3.5.5"
  }
 },
 "nbformat": 4,
 "nbformat_minor": 2
}
