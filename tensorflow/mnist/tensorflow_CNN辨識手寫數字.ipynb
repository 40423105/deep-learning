{
 "cells": [
  {
   "cell_type": "markdown",
   "metadata": {},
   "source": [
    "# 讀取資料"
   ]
  },
  {
   "cell_type": "code",
   "execution_count": 5,
   "metadata": {},
   "outputs": [
    {
     "name": "stdout",
     "output_type": "stream",
     "text": [
      "Extracting MNIST_data/train-images-idx3-ubyte.gz\n",
      "Extracting MNIST_data/train-labels-idx1-ubyte.gz\n",
      "Extracting MNIST_data/t10k-images-idx3-ubyte.gz\n",
      "Extracting MNIST_data/t10k-labels-idx1-ubyte.gz\n"
     ]
    }
   ],
   "source": [
    "import tensorflow.compat.v1 as tf\n",
    "tf.disable_v2_behavior()\n",
    "import tensorflow.examples.tutorials.mnist.input_data as input_data\n",
    "\n",
    "mnist = input_data.read_data_sets(\"MNIST_data/\",one_hot = True)"
   ]
  },
  {
   "cell_type": "markdown",
   "metadata": {},
   "source": [
    "# 建立函數"
   ]
  },
  {
   "cell_type": "code",
   "execution_count": 6,
   "metadata": {},
   "outputs": [],
   "source": [
    "#定義weight函數\n",
    "def weight(shape):\n",
    "    return tf.Variable(tf.truncated_normal(shape,stddev=0.1),name = 'w')"
   ]
  },
  {
   "cell_type": "code",
   "execution_count": 7,
   "metadata": {},
   "outputs": [],
   "source": [
    "#定義bias函數\n",
    "def bias(shape):\n",
    "    return tf.Variable(tf.constant(0.1,shape=shape),name = 'b')"
   ]
  },
  {
   "cell_type": "code",
   "execution_count": 8,
   "metadata": {},
   "outputs": [],
   "source": [
    "#定義conv2d函數，用於進行卷積運算\n",
    "def conv2d(x,w):\n",
    "    return tf.nn.conv2d(x,w,strides=[1,1,1,1],padding='SAME')"
   ]
  },
  {
   "cell_type": "code",
   "execution_count": 9,
   "metadata": {},
   "outputs": [],
   "source": [
    "#定義max_pool_2x2函數，用於池化層\n",
    "def max_pool_2x2(x):\n",
    "    return tf.nn.max_pool(x,ksize=[1,2,2,1],\n",
    "                          strides=[1,2,2,1],\n",
    "                          padding='SAME')"
   ]
  },
  {
   "cell_type": "markdown",
   "metadata": {},
   "source": [
    "# 建立模型"
   ]
  },
  {
   "cell_type": "code",
   "execution_count": 12,
   "metadata": {},
   "outputs": [],
   "source": [
    "#輸入層\n",
    "with tf.name_scope('input_layer'):\n",
    "    x = tf.placeholder(\"float\",shape=[None,784],name='x')\n",
    "    x_image = tf.reshape(x,[-1,28,28,1])"
   ]
  },
  {
   "cell_type": "code",
   "execution_count": 14,
   "metadata": {},
   "outputs": [],
   "source": [
    "#卷積層1\n",
    "with tf.name_scope('c1_conv'):\n",
    "    w1 = weight([5,5,1,16])\n",
    "    b1 = bias([16])\n",
    "    conv1 = conv2d(x_image,w1) + b1\n",
    "    c1_conv = tf.nn.relu(conv1)"
   ]
  },
  {
   "cell_type": "code",
   "execution_count": 15,
   "metadata": {},
   "outputs": [],
   "source": [
    "#池化層1\n",
    "with tf.name_scope('c1_pool'):\n",
    "    c1_pool = max_pool_2x2(c1_conv)"
   ]
  },
  {
   "cell_type": "code",
   "execution_count": 16,
   "metadata": {},
   "outputs": [],
   "source": [
    "#卷積層2\n",
    "with tf.name_scope('C2_Conv'):\n",
    "    w2 = weight([5,5,16,36])\n",
    "    b2 = bias([36])\n",
    "    conv2 = conv2d(c1_pool,w2) + b2\n",
    "    c2_conv = tf.nn.relu(conv2)"
   ]
  },
  {
   "cell_type": "code",
   "execution_count": 17,
   "metadata": {},
   "outputs": [],
   "source": [
    "#池化層2\n",
    "with tf.name_scope('c2_pool'):\n",
    "    c2_pool = max_pool_2x2(c2_conv)"
   ]
  },
  {
   "cell_type": "code",
   "execution_count": 19,
   "metadata": {},
   "outputs": [],
   "source": [
    "#建立平坦層\n",
    "with tf.name_scope('c2_flat'):\n",
    "    d_flat = tf.reshape(c2_pool,[-1,1764])"
   ]
  },
  {
   "cell_type": "code",
   "execution_count": 21,
   "metadata": {},
   "outputs": [],
   "source": [
    "#建立隱藏層\n",
    "with tf.name_scope('d_hidden_layer'):\n",
    "    w3 = weight([1764,128])\n",
    "    b3 = bias([128])\n",
    "    d_hidden = tf.nn.relu(tf.matmul(d_flat,w3)+b3)\n",
    "    d_hidden_dropout = tf.nn.dropout(d_hidden,rate = 1 - 0.8)"
   ]
  },
  {
   "cell_type": "code",
   "execution_count": 22,
   "metadata": {},
   "outputs": [],
   "source": [
    "#建立輸出層\n",
    "with tf.name_scope('output_layer'):\n",
    "    w4 = weight([128,10])\n",
    "    b4 = bias([10])\n",
    "    y_predict = tf.nn.softmax(tf.matmul(d_hidden_dropout,w4) +b4)"
   ]
  },
  {
   "cell_type": "markdown",
   "metadata": {},
   "source": [
    "# 定義訓練方式"
   ]
  },
  {
   "cell_type": "code",
   "execution_count": 23,
   "metadata": {},
   "outputs": [],
   "source": [
    "with tf.name_scope(\"optimizer\"):\n",
    "    #建立訓練資料label真實值的placeholder\n",
    "    y_label = tf.placeholder(\"float\",shape=[None,10],name = \"y_label\")\n",
    "    #定義loss function(cross entropy)\n",
    "    loss_function = tf.reduce_mean(tf.nn.softmax_cross_entropy_with_logits_v2(labels=y_label, logits=y_predict))\n",
    "    #定義optimizer最優化方法\n",
    "    optimizer = tf.train.AdamOptimizer(learning_rate=0.001).minimize(loss_function)"
   ]
  },
  {
   "cell_type": "code",
   "execution_count": 24,
   "metadata": {},
   "outputs": [],
   "source": [
    "#定義模型的準確率函數\n",
    "with tf.name_scope(\"evaluate_model\"):\n",
    "    correct_prediction = tf.equal(tf.argmax(y_predict,1),\n",
    "                                  tf.argmax(y_label,1))\n",
    "    accuracy = tf.reduce_mean(tf.cast(correct_prediction,\"float\"))"
   ]
  },
  {
   "cell_type": "markdown",
   "metadata": {},
   "source": [
    "# 進行訓練 "
   ]
  },
  {
   "cell_type": "code",
   "execution_count": 25,
   "metadata": {},
   "outputs": [],
   "source": [
    "#定義訓練參數\n",
    "trainepochs = 30\n",
    "batchsize = 100\n",
    "totalbatchs = int(mnist.train.num_examples/batchsize)\n",
    "epoch_list=[];loss_list=[];accuracy_list=[]\n",
    "from time import time\n",
    "starttime=time()\n",
    "sess = tf.Session()\n",
    "sess.run(tf.global_variables_initializer())"
   ]
  },
  {
   "cell_type": "code",
   "execution_count": 26,
   "metadata": {},
   "outputs": [
    {
     "name": "stdout",
     "output_type": "stream",
     "text": [
      "Train Epoch: 01 loss= 1.500869870 Accuracy= 0.9634\n",
      "Train Epoch: 02 loss= 1.491995811 Accuracy= 0.971\n",
      "Train Epoch: 03 loss= 1.482505202 Accuracy= 0.9794\n",
      "Train Epoch: 04 loss= 1.477242827 Accuracy= 0.9852\n",
      "Train Epoch: 05 loss= 1.478324652 Accuracy= 0.9834\n",
      "Train Epoch: 06 loss= 1.477203250 Accuracy= 0.9848\n",
      "Train Epoch: 07 loss= 1.476323485 Accuracy= 0.9856\n",
      "Train Epoch: 08 loss= 1.474857569 Accuracy= 0.9864\n",
      "Train Epoch: 09 loss= 1.475708008 Accuracy= 0.985\n",
      "Train Epoch: 10 loss= 1.473488450 Accuracy= 0.988\n",
      "Train Epoch: 11 loss= 1.474086285 Accuracy= 0.9874\n",
      "Train Epoch: 12 loss= 1.474177361 Accuracy= 0.987\n",
      "Train Epoch: 13 loss= 1.472503662 Accuracy= 0.9892\n",
      "Train Epoch: 14 loss= 1.472225070 Accuracy= 0.9894\n",
      "Train Epoch: 15 loss= 1.471628070 Accuracy= 0.9896\n",
      "Train Epoch: 16 loss= 1.472083211 Accuracy= 0.989\n",
      "Train Epoch: 17 loss= 1.473590612 Accuracy= 0.9876\n",
      "Train Epoch: 18 loss= 1.472531080 Accuracy= 0.9884\n",
      "Train Epoch: 19 loss= 1.472522616 Accuracy= 0.9886\n",
      "Train Epoch: 20 loss= 1.472244143 Accuracy= 0.9892\n",
      "Train Epoch: 21 loss= 1.472085595 Accuracy= 0.9892\n",
      "Train Epoch: 22 loss= 1.472121000 Accuracy= 0.989\n",
      "Train Epoch: 23 loss= 1.471000433 Accuracy= 0.9898\n",
      "Train Epoch: 24 loss= 1.470040202 Accuracy= 0.9912\n",
      "Train Epoch: 25 loss= 1.473241568 Accuracy= 0.988\n",
      "Train Epoch: 26 loss= 1.471385360 Accuracy= 0.9896\n",
      "Train Epoch: 27 loss= 1.473755717 Accuracy= 0.9874\n",
      "Train Epoch: 28 loss= 1.470275998 Accuracy= 0.991\n",
      "Train Epoch: 29 loss= 1.469898224 Accuracy= 0.9914\n",
      "Train Epoch: 30 loss= 1.472196102 Accuracy= 0.9888\n",
      "Train Finished takes: 918.5071370601654\n"
     ]
    }
   ],
   "source": [
    "#開始訓練\n",
    "for epoch in range(trainepochs):\n",
    "    for i in range(totalbatchs):\n",
    "        batch_x,batch_y = mnist.train.next_batch(batchsize)\n",
    "        sess.run(optimizer,feed_dict={x:batch_x,\n",
    "                                      y_label:batch_y})\n",
    "    loss,acc = sess.run([loss_function,accuracy],feed_dict={x:mnist.validation.images,\n",
    "                                                            y_label:mnist.validation.labels})\n",
    "    epoch_list.append(epoch)\n",
    "    loss_list.append(loss)\n",
    "    accuracy_list.append(acc)\n",
    "    print(\"Train Epoch:\",'%02d' % (epoch+1),\"loss=\",\\\n",
    "          \"{:.9f}\".format(loss),\"Accuracy=\",acc)\n",
    "duration = time()-starttime\n",
    "print(\"Train Finished takes:\",duration)"
   ]
  },
  {
   "cell_type": "code",
   "execution_count": 27,
   "metadata": {},
   "outputs": [
    {
     "data": {
      "text/plain": [
       "<matplotlib.legend.Legend at 0x28038c88e80>"
      ]
     },
     "execution_count": 27,
     "metadata": {},
     "output_type": "execute_result"
    },
    {
     "data": {
      "image/png": "[encoded data removed]",
      "text/plain": [
       "<Figure size 432x288 with 1 Axes>"
      ]
     },
     "metadata": {},
     "output_type": "display_data"
    }
   ],
   "source": [
    "#畫出loss執行結果\n",
    "%matplotlib inline\n",
    "import matplotlib.pyplot as plt\n",
    "fig = plt.gcf()\n",
    "fig.set_size_inches(6,4)\n",
    "plt.plot(epoch_list,loss_list,label='loss')\n",
    "plt.ylabel('loss')\n",
    "plt.xlabel('epoch')\n",
    "plt.legend(['loss'],loc='upper left')"
   ]
  },
  {
   "cell_type": "code",
   "execution_count": 28,
   "metadata": {},
   "outputs": [
    {
     "data": {
      "image/png": "[encoded data removed]",
      "text/plain": [
       "<Figure size 432x288 with 1 Axes>"
      ]
     },
     "metadata": {},
     "output_type": "display_data"
    }
   ],
   "source": [
    "#畫出accuracy執行結果\n",
    "%matplotlib inline\n",
    "plt.plot(epoch_list,accuracy_list,label='accuracy')\n",
    "fig = plt.gcf()\n",
    "fig.set_size_inches(6,4)\n",
    "plt.ylim(0.4,1)\n",
    "plt.ylabel('accuracy')\n",
    "plt.xlabel('epoch')\n",
    "plt.legend()\n",
    "plt.show()"
   ]
  },
  {
   "cell_type": "markdown",
   "metadata": {},
   "source": [
    "# 評估模型準確率"
   ]
  },
  {
   "cell_type": "code",
   "execution_count": 29,
   "metadata": {},
   "outputs": [
    {
     "name": "stdout",
     "output_type": "stream",
     "text": [
      "Accuracy: 0.9901\n"
     ]
    }
   ],
   "source": [
    "#評估模型準確率\n",
    "print(\"Accuracy:\",sess.run(accuracy,feed_dict={x:mnist.test.images,\n",
    "                                               y_label:mnist.test.labels}))"
   ]
  },
  {
   "cell_type": "markdown",
   "metadata": {},
   "source": [
    "# 進行預測"
   ]
  },
  {
   "cell_type": "code",
   "execution_count": 30,
   "metadata": {},
   "outputs": [
    {
     "data": {
      "text/plain": [
       "array([7, 2, 1, 0, 4, 1, 4, 9, 5, 9], dtype=int64)"
      ]
     },
     "execution_count": 30,
     "metadata": {},
     "output_type": "execute_result"
    }
   ],
   "source": [
    "#預測\n",
    "prediction_result = sess.run(tf.argmax(y_predict,1),feed_dict={x:mnist.test.images})\n",
    "prediction_result[:10]"
   ]
  },
  {
   "cell_type": "code",
   "execution_count": 31,
   "metadata": {},
   "outputs": [],
   "source": [
    "import numpy as np\n",
    "def plot_image_labels_prediction(images,labels,prediction,idx,num=10):\n",
    "    fig = plt.gcf()\n",
    "    fig.set_size_inches(12,14)\n",
    "    if num > 25:\n",
    "        num=25\n",
    "    for i in range(0,num):\n",
    "        ax = plt.subplot(5,5,1+i)\n",
    "        ax.imshow(np.reshape(images[idx],(28,28)),cmap='binary')\n",
    "        title = \"label=\" + str(labels[idx])\n",
    "        if len(prediction) > 0:\n",
    "            title += \",predict=\" + str(prediction[idx])\n",
    "        \n",
    "        ax.set_title(title,fontsize=10)\n",
    "        ax.set_xticks([]);ax.set_yticks([])\n",
    "        idx+=1\n",
    "    plt.show()"
   ]
  },
  {
   "cell_type": "code",
   "execution_count": 32,
   "metadata": {},
   "outputs": [
    {
     "name": "stdout",
     "output_type": "stream",
     "text": [
      "Extracting MNIST_data/train-images-idx3-ubyte.gz\n",
      "Extracting MNIST_data/train-labels-idx1-ubyte.gz\n",
      "Extracting MNIST_data/t10k-images-idx3-ubyte.gz\n",
      "Extracting MNIST_data/t10k-labels-idx1-ubyte.gz\n"
     ]
    },
    {
     "data": {
      "image/png": "[encoded data removed]",
      "text/plain": [
       "<Figure size 864x1008 with 10 Axes>"
      ]
     },
     "metadata": {},
     "output_type": "display_data"
    }
   ],
   "source": [
    "decoded = input_data.read_data_sets(\"MNIST_data/\",one_hot = False)\n",
    "decoded.test.labels\n",
    "plot_image_labels_prediction(mnist.test.images,decoded.test.labels,prediction_result,idx=0)"
   ]
  },
  {
   "cell_type": "code",
   "execution_count": 46,
   "metadata": {},
   "outputs": [
    {
     "name": "stdout",
     "output_type": "stream",
     "text": [
      "模型預測值: [6]\n",
      "圖片正確值: 6\n"
     ]
    }
   ],
   "source": [
    "#進行單張預測\n",
    "test_num = 100\n",
    "photo = np.reshape(mnist.test.images[test_num],(1,784))\n",
    "\n",
    "photo_prediction = sess.run(tf.argmax(y_predict,1),feed_dict={x:photo})\n",
    "print(\"模型預測值:\",str(photo_prediction))\n",
    "print(\"圖片正確值:\",str(decoded.test.labels[test_num]))"
   ]
  },
  {
   "cell_type": "code",
   "execution_count": null,
   "metadata": {},
   "outputs": [],
   "source": []
  }
 ],
 "metadata": {
  "kernelspec": {
   "display_name": "Python 3",
   "language": "python",
   "name": "python3"
  },
  "language_info": {
   "codemirror_mode": {
    "name": "ipython",
    "version": 3
   },
   "file_extension": ".py",
   "mimetype": "text/x-python",
   "name": "python",
   "nbconvert_exporter": "python",
   "pygments_lexer": "ipython3",
   "version": "3.5.5"
  }
 },
 "nbformat": 4,
 "nbformat_minor": 2
}
