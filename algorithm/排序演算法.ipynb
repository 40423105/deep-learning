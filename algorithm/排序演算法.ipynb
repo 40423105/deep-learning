{
 "cells": [
  {
   "cell_type": "code",
   "execution_count": 46,
   "metadata": {},
   "outputs": [
    {
     "name": "stdout",
     "output_type": "stream",
     "text": [
      "min = 10\n"
     ]
    },
    {
     "data": {
      "text/plain": [
       "[10, 12, 13, 15, 20, 22, 25, 27]"
      ]
     },
     "execution_count": 46,
     "metadata": {},
     "output_type": "execute_result"
    }
   ],
   "source": [
    "#選擇排序法\n",
    "data = [27,10,12,20,25,13,15,22]\n",
    "min_num = 0;\n",
    "\n",
    "for i in range(0,len(data)):\n",
    "    min_num = data[i]\n",
    "    index = i\n",
    "    for j in range(i+1,len(data)):\n",
    "        #print(i) \n",
    "        if data[j] < min_num:\n",
    "            min_num = data[j]\n",
    "            index = j           \n",
    "    data[i],data[index] = data[index],data[i]        \n",
    "                 \n",
    "print('min =',data[0])\n",
    "data\n"
   ]
  },
  {
   "cell_type": "code",
   "execution_count": 47,
   "metadata": {},
   "outputs": [
    {
     "name": "stdout",
     "output_type": "stream",
     "text": [
      "[10, 12, 13, 15, 20, 22, 25, 27]\n"
     ]
    }
   ],
   "source": [
    "#插入排序法\n",
    "data = [27,10,12,20,25,13,15,22]\n",
    "\n",
    "for i in range(0,len(data)-1):\n",
    "    while i >=0:\n",
    "        j = i+1\n",
    "        if data[j]<data[i]:\n",
    "            data[i],data[j] = data[j],data[i]\n",
    "        i-=1\n",
    "\n",
    "print(data)"
   ]
  },
  {
   "cell_type": "code",
   "execution_count": 54,
   "metadata": {},
   "outputs": [
    {
     "data": {
      "text/plain": [
       "[10, 12, 13, 15, 20, 22, 25, 27]"
      ]
     },
     "execution_count": 54,
     "metadata": {},
     "output_type": "execute_result"
    }
   ],
   "source": [
    "#氣泡排序法\n",
    "data = [27,10,12,20,25,13,15,22]\n",
    "change_num = 0\n",
    "while change_num >= 0:\n",
    "    for i in range(0,len(data)-1):\n",
    "        j=i+1\n",
    "        if data[j]<data[i]:\n",
    "            data[i],data[j] = data[j],data[i]\n",
    "            change_num += 1\n",
    "        else:\n",
    "            change_num -= 1\n",
    "    \n",
    "\n",
    "data"
   ]
  },
  {
   "cell_type": "code",
   "execution_count": null,
   "metadata": {},
   "outputs": [],
   "source": [
    "\n",
    "\n",
    "            \n",
    "    \n",
    "\n",
    "        \n",
    "\n"
   ]
  },
  {
   "cell_type": "code",
   "execution_count": null,
   "metadata": {},
   "outputs": [],
   "source": []
  }
 ],
 "metadata": {
  "kernelspec": {
   "display_name": "Python 3",
   "language": "python",
   "name": "python3"
  },
  "language_info": {
   "codemirror_mode": {
    "name": "ipython",
    "version": 3
   },
   "file_extension": ".py",
   "mimetype": "text/x-python",
   "name": "python",
   "nbconvert_exporter": "python",
   "pygments_lexer": "ipython3",
   "version": "3.5.5"
  }
 },
 "nbformat": 4,
 "nbformat_minor": 2
}
