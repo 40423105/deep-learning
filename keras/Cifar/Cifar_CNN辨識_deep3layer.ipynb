{
 "cells": [
  {
   "cell_type": "code",
   "execution_count": 1,
   "metadata": {},
   "outputs": [],
   "source": [
    "#匯入模組及下載資料\n",
    "from keras.datasets import cifar10\n",
    "import numpy as np\n",
    "np.random.seed(10)"
   ]
  },
  {
   "cell_type": "code",
   "execution_count": 2,
   "metadata": {},
   "outputs": [],
   "source": [
    "#讀取cifar資料\n",
    "(x_img_train,y_label_train),(x_img_test,y_label_test) = cifar10.load_data()"
   ]
  },
  {
   "cell_type": "code",
   "execution_count": 3,
   "metadata": {},
   "outputs": [],
   "source": [
    "#定義字典\n",
    "label_dict={0:\"airplane\",1:\"automobile\",2:\"bird\",3:\"cat\",4:\"deer\",5:\"dog\",6:\"frog\",7:\"horse\",8:\"ship\",9:\"truck\"}"
   ]
  },
  {
   "cell_type": "code",
   "execution_count": 4,
   "metadata": {},
   "outputs": [],
   "source": [
    "import matplotlib.pyplot as plt\n",
    "def plot_image_labels_prediction(images,labels,prediction,idx,num=10):\n",
    "    fig = plt.gcf()\n",
    "    fig.set_size_inches(12,14)\n",
    "    if num > 25:\n",
    "        num=25\n",
    "    for i in range(0,num):\n",
    "        ax = plt.subplot(5,5,1+i)\n",
    "        ax.imshow(images[idx],cmap='binary')\n",
    "        title = str(i)+\",\" + label_dict[labels[i][0]]\n",
    "        if len(prediction) > 0:\n",
    "            title += \",predict=\" + label_dict[prediction[i]]\n",
    "        \n",
    "        ax.set_title(title,fontsize=10)\n",
    "        ax.set_xticks([]);ax.set_yticks([])\n",
    "        idx+=1\n",
    "    plt.show()"
   ]
  },
  {
   "cell_type": "code",
   "execution_count": 5,
   "metadata": {},
   "outputs": [],
   "source": [
    "#資料預處理\n",
    "#標準化\n",
    "x_img_train_normalize = x_img_train.astype('float32') / 255.0\n",
    "x_img_test_normalize = x_img_test.astype('float32') / 255.0"
   ]
  },
  {
   "cell_type": "code",
   "execution_count": 6,
   "metadata": {},
   "outputs": [],
   "source": [
    "#label ont-hot encoding\n",
    "from keras.utils import np_utils\n",
    "y_label_train_onehot = np_utils.to_categorical(y_label_train)\n",
    "y_label_test_onehot = np_utils.to_categorical(y_label_test)"
   ]
  },
  {
   "cell_type": "code",
   "execution_count": 7,
   "metadata": {},
   "outputs": [],
   "source": [
    "#建立模型\n",
    "#提取影像特徵(卷積層、池化層)\n",
    "#類神經網路(平坦層、隱藏層、輸出層)\n",
    "\n",
    "#keras Sequential模組\n",
    "from keras.models import Sequential\n",
    "#keras layers模組\n",
    "from keras.layers import Dense, Dropout, Activation, Flatten\n",
    "from keras.layers import Conv2D, MaxPooling2D, ZeroPadding2D"
   ]
  },
  {
   "cell_type": "code",
   "execution_count": 8,
   "metadata": {},
   "outputs": [],
   "source": [
    "#建立線性堆疊模型\n",
    "model = Sequential()"
   ]
  },
  {
   "cell_type": "code",
   "execution_count": 9,
   "metadata": {},
   "outputs": [],
   "source": [
    "#建立卷積層1與池化層1並加入Dropout避免overfitting\n",
    "model.add(Conv2D(filters=32,kernel_size=(3,3),\n",
    "                 input_shape=(32,32,3),\n",
    "                 activation='relu',\n",
    "                 padding='same'))"
   ]
  },
  {
   "cell_type": "code",
   "execution_count": 10,
   "metadata": {},
   "outputs": [],
   "source": [
    "model.add(Dropout(rate=0.3))"
   ]
  },
  {
   "cell_type": "code",
   "execution_count": 11,
   "metadata": {},
   "outputs": [],
   "source": [
    "model.add(Conv2D(filters=32,kernel_size=(3,3),\n",
    "                 activation='relu',\n",
    "                 padding='same'))"
   ]
  },
  {
   "cell_type": "code",
   "execution_count": 12,
   "metadata": {},
   "outputs": [],
   "source": [
    "model.add(MaxPooling2D(pool_size=(2,2)))"
   ]
  },
  {
   "cell_type": "code",
   "execution_count": 13,
   "metadata": {},
   "outputs": [],
   "source": [
    "#建立卷積層2與池化層2並加入Dropout避免overfitting\n",
    "model.add(Conv2D(filters=64,kernel_size=(3,3),\n",
    "                 activation='relu',\n",
    "                 padding='same'))"
   ]
  },
  {
   "cell_type": "code",
   "execution_count": 14,
   "metadata": {},
   "outputs": [],
   "source": [
    "model.add(Dropout(rate=0.3))"
   ]
  },
  {
   "cell_type": "code",
   "execution_count": 15,
   "metadata": {},
   "outputs": [],
   "source": [
    "model.add(Conv2D(filters=64,kernel_size=(3,3),\n",
    "                 activation='relu',\n",
    "                 padding='same'))"
   ]
  },
  {
   "cell_type": "code",
   "execution_count": 16,
   "metadata": {},
   "outputs": [],
   "source": [
    "model.add(MaxPooling2D(pool_size=(2,2)))"
   ]
  },
  {
   "cell_type": "code",
   "execution_count": 17,
   "metadata": {},
   "outputs": [],
   "source": [
    "#建立卷積層3與池化層3並加入Dropout避免overfitting\n",
    "model.add(Conv2D(filters=128,kernel_size=(3,3),\n",
    "                 activation='relu',\n",
    "                 padding='same'))"
   ]
  },
  {
   "cell_type": "code",
   "execution_count": 18,
   "metadata": {},
   "outputs": [],
   "source": [
    "model.add(Dropout(rate=0.3))"
   ]
  },
  {
   "cell_type": "code",
   "execution_count": 19,
   "metadata": {},
   "outputs": [],
   "source": [
    "model.add(Conv2D(filters=128,kernel_size=(3,3),\n",
    "                 activation='relu',\n",
    "                 padding='same'))"
   ]
  },
  {
   "cell_type": "code",
   "execution_count": 20,
   "metadata": {},
   "outputs": [],
   "source": [
    "model.add(MaxPooling2D(pool_size=(2,2)))"
   ]
  },
  {
   "cell_type": "code",
   "execution_count": 21,
   "metadata": {},
   "outputs": [],
   "source": [
    "#建立神經網路(平坦層、隱藏層1、隱藏層2、輸出層)\n",
    "model.add(Flatten())\n",
    "model.add(Dropout(rate=0.3))"
   ]
  },
  {
   "cell_type": "code",
   "execution_count": 22,
   "metadata": {},
   "outputs": [],
   "source": [
    "model.add(Dense(2500,activation='relu'))\n",
    "model.add(Dropout(rate=0.3))"
   ]
  },
  {
   "cell_type": "code",
   "execution_count": 23,
   "metadata": {},
   "outputs": [],
   "source": [
    "model.add(Dense(1500,activation='relu'))\n",
    "model.add(Dropout(rate=0.3))"
   ]
  },
  {
   "cell_type": "code",
   "execution_count": 24,
   "metadata": {},
   "outputs": [],
   "source": [
    "model.add(Dense(10,activation='softmax'))"
   ]
  },
  {
   "cell_type": "code",
   "execution_count": 25,
   "metadata": {},
   "outputs": [],
   "source": [
    "#透過反向傳播法，訓練模型\n",
    "model.compile(loss ='categorical_crossentropy',optimizer='adam',metrics=['accuracy'])"
   ]
  },
  {
   "cell_type": "code",
   "execution_count": 26,
   "metadata": {},
   "outputs": [
    {
     "name": "stdout",
     "output_type": "stream",
     "text": [
      "Epoch 1/50\n",
      "313/313 - 149s - loss: 1.8121 - accuracy: 0.3171 - val_accuracy: 0.3587 - val_loss: 1.7398\n",
      "Epoch 2/50\n",
      "313/313 - 152s - loss: 1.4154 - accuracy: 0.4800 - val_accuracy: 0.4742 - val_loss: 1.4373\n",
      "Epoch 3/50\n",
      "313/313 - 149s - loss: 1.2250 - accuracy: 0.5575 - val_accuracy: 0.5907 - val_loss: 1.1321\n",
      "Epoch 4/50\n",
      "313/313 - 150s - loss: 1.0882 - accuracy: 0.6103 - val_accuracy: 0.6463 - val_loss: 1.0001\n",
      "Epoch 5/50\n",
      "313/313 - 149s - loss: 0.9751 - accuracy: 0.6546 - val_accuracy: 0.6920 - val_loss: 0.8806\n",
      "Epoch 6/50\n",
      "313/313 - 148s - loss: 0.8941 - accuracy: 0.6822 - val_accuracy: 0.7040 - val_loss: 0.8416\n",
      "Epoch 7/50\n",
      "313/313 - 153s - loss: 0.8270 - accuracy: 0.7064 - val_accuracy: 0.7150 - val_loss: 0.8125\n",
      "Epoch 8/50\n",
      "313/313 - 152s - loss: 0.7739 - accuracy: 0.7259 - val_accuracy: 0.7390 - val_loss: 0.7559\n",
      "Epoch 9/50\n",
      "313/313 - 151s - loss: 0.7273 - accuracy: 0.7436 - val_accuracy: 0.7498 - val_loss: 0.7136\n",
      "Epoch 10/50\n",
      "313/313 - 151s - loss: 0.6879 - accuracy: 0.7562 - val_accuracy: 0.7506 - val_loss: 0.7328\n",
      "Epoch 11/50\n",
      "313/313 - 151s - loss: 0.6539 - accuracy: 0.7680 - val_accuracy: 0.7455 - val_loss: 0.7480\n",
      "Epoch 12/50\n",
      "313/313 - 158s - loss: 0.6145 - accuracy: 0.7818 - val_accuracy: 0.7594 - val_loss: 0.7120\n",
      "Epoch 13/50\n",
      "313/313 - 170s - loss: 0.5854 - accuracy: 0.7927 - val_accuracy: 0.7779 - val_loss: 0.6615\n",
      "Epoch 14/50\n",
      "313/313 - 162s - loss: 0.5586 - accuracy: 0.8019 - val_accuracy: 0.7678 - val_loss: 0.6971\n",
      "Epoch 15/50\n",
      "313/313 - 175s - loss: 0.5362 - accuracy: 0.8088 - val_accuracy: 0.7753 - val_loss: 0.6625\n",
      "Epoch 16/50\n",
      "313/313 - 166s - loss: 0.4995 - accuracy: 0.8202 - val_accuracy: 0.7827 - val_loss: 0.6490\n",
      "Epoch 17/50\n",
      "313/313 - 179s - loss: 0.4883 - accuracy: 0.8241 - val_accuracy: 0.7817 - val_loss: 0.6471\n",
      "Epoch 18/50\n",
      "313/313 - 160s - loss: 0.4672 - accuracy: 0.8331 - val_accuracy: 0.7796 - val_loss: 0.6614\n",
      "Epoch 19/50\n",
      "313/313 - 161s - loss: 0.4521 - accuracy: 0.8400 - val_accuracy: 0.7889 - val_loss: 0.6409\n",
      "Epoch 20/50\n",
      "313/313 - 162s - loss: 0.4322 - accuracy: 0.8461 - val_accuracy: 0.7901 - val_loss: 0.6413\n",
      "Epoch 21/50\n",
      "313/313 - 163s - loss: 0.4158 - accuracy: 0.8505 - val_accuracy: 0.7945 - val_loss: 0.6338\n",
      "Epoch 22/50\n",
      "313/313 - 165s - loss: 0.4067 - accuracy: 0.8533 - val_accuracy: 0.7837 - val_loss: 0.6710\n",
      "Epoch 23/50\n",
      "313/313 - 162s - loss: 0.3859 - accuracy: 0.8624 - val_accuracy: 0.7978 - val_loss: 0.6350\n",
      "Epoch 24/50\n",
      "313/313 - 158s - loss: 0.3810 - accuracy: 0.8639 - val_accuracy: 0.8027 - val_loss: 0.6153\n",
      "Epoch 25/50\n",
      "313/313 - 159s - loss: 0.3681 - accuracy: 0.8706 - val_accuracy: 0.7998 - val_loss: 0.6296\n",
      "Epoch 26/50\n",
      "313/313 - 158s - loss: 0.3556 - accuracy: 0.8734 - val_accuracy: 0.7995 - val_loss: 0.6394\n",
      "Epoch 27/50\n",
      "313/313 - 165s - loss: 0.3427 - accuracy: 0.8797 - val_accuracy: 0.7995 - val_loss: 0.6386\n",
      "Epoch 28/50\n",
      "313/313 - 163s - loss: 0.3461 - accuracy: 0.8766 - val_accuracy: 0.7947 - val_loss: 0.6528\n",
      "Epoch 29/50\n",
      "313/313 - 162s - loss: 0.3337 - accuracy: 0.8825 - val_accuracy: 0.7857 - val_loss: 0.6947\n",
      "Epoch 30/50\n",
      "313/313 - 164s - loss: 0.3277 - accuracy: 0.8834 - val_accuracy: 0.7989 - val_loss: 0.6436\n",
      "Epoch 31/50\n",
      "313/313 - 166s - loss: 0.3116 - accuracy: 0.8915 - val_accuracy: 0.7928 - val_loss: 0.6725\n",
      "Epoch 32/50\n",
      "313/313 - 179s - loss: 0.3105 - accuracy: 0.8908 - val_accuracy: 0.7992 - val_loss: 0.6445\n",
      "Epoch 33/50\n",
      "313/313 - 168s - loss: 0.3008 - accuracy: 0.8949 - val_accuracy: 0.7959 - val_loss: 0.6717\n",
      "Epoch 34/50\n",
      "313/313 - 171s - loss: 0.2982 - accuracy: 0.8948 - val_accuracy: 0.7854 - val_loss: 0.7185\n",
      "Epoch 35/50\n",
      "313/313 - 167s - loss: 0.3063 - accuracy: 0.8936 - val_accuracy: 0.7915 - val_loss: 0.6821\n",
      "Epoch 36/50\n",
      "313/313 - 169s - loss: 0.2973 - accuracy: 0.8960 - val_accuracy: 0.7924 - val_loss: 0.6624\n",
      "Epoch 37/50\n",
      "313/313 - 171s - loss: 0.2829 - accuracy: 0.9007 - val_accuracy: 0.7930 - val_loss: 0.6824\n",
      "Epoch 38/50\n",
      "313/313 - 171s - loss: 0.2846 - accuracy: 0.9007 - val_accuracy: 0.8017 - val_loss: 0.6367\n",
      "Epoch 39/50\n",
      "313/313 - 158s - loss: 0.2706 - accuracy: 0.9046 - val_accuracy: 0.7949 - val_loss: 0.6923\n",
      "Epoch 40/50\n",
      "313/313 - 157s - loss: 0.2802 - accuracy: 0.9031 - val_accuracy: 0.7957 - val_loss: 0.6621\n",
      "Epoch 41/50\n",
      "313/313 - 156s - loss: 0.2727 - accuracy: 0.9062 - val_accuracy: 0.7823 - val_loss: 0.7073\n",
      "Epoch 42/50\n",
      "313/313 - 154s - loss: 0.2567 - accuracy: 0.9123 - val_accuracy: 0.7912 - val_loss: 0.6833\n",
      "Epoch 43/50\n",
      "313/313 - 154s - loss: 0.2676 - accuracy: 0.9088 - val_accuracy: 0.7948 - val_loss: 0.6573\n",
      "Epoch 44/50\n",
      "313/313 - 154s - loss: 0.2597 - accuracy: 0.9115 - val_accuracy: 0.7747 - val_loss: 0.7343\n",
      "Epoch 45/50\n",
      "313/313 - 154s - loss: 0.2598 - accuracy: 0.9102 - val_accuracy: 0.7922 - val_loss: 0.6916\n",
      "Epoch 46/50\n",
      "313/313 - 153s - loss: 0.2553 - accuracy: 0.9115 - val_accuracy: 0.7765 - val_loss: 0.7434\n",
      "Epoch 47/50\n",
      "313/313 - 153s - loss: 0.2555 - accuracy: 0.9115 - val_accuracy: 0.8038 - val_loss: 0.6918\n",
      "Epoch 48/50\n",
      "313/313 - 153s - loss: 0.2492 - accuracy: 0.9148 - val_accuracy: 0.7961 - val_loss: 0.6704\n",
      "Epoch 49/50\n",
      "313/313 - 153s - loss: 0.2296 - accuracy: 0.9208 - val_accuracy: 0.7874 - val_loss: 0.7328\n",
      "Epoch 50/50\n",
      "313/313 - 152s - loss: 0.2456 - accuracy: 0.9172 - val_accuracy: 0.7862 - val_loss: 0.7098\n"
     ]
    }
   ],
   "source": [
    "#開始訓練\n",
    "train_history = model.fit(x_img_train_normalize,y_label_train_onehot,\n",
    "                         validation_split=0.2,\n",
    "                         epochs=50,batch_size=128,verbose=2)"
   ]
  },
  {
   "cell_type": "code",
   "execution_count": 27,
   "metadata": {},
   "outputs": [
    {
     "data": {
      "text/plain": [
       "0.7811999917030334"
      ]
     },
     "execution_count": 27,
     "metadata": {},
     "output_type": "execute_result"
    }
   ],
   "source": [
    "scores = model.evaluate(x_img_test_normalize,y_label_test_onehot,verbose=0)\n",
    "scores[1]"
   ]
  },
  {
   "cell_type": "code",
   "execution_count": 30,
   "metadata": {},
   "outputs": [
    {
     "name": "stdout",
     "output_type": "stream",
     "text": [
      "save model to disk\n"
     ]
    }
   ],
   "source": [
    "#儲存模型參數\n",
    "model.save_weights(\"cifarcnnmodel.h5\")\n",
    "print(\"save model to disk\")"
   ]
  },
  {
   "cell_type": "code",
   "execution_count": 31,
   "metadata": {},
   "outputs": [
    {
     "name": "stdout",
     "output_type": "stream",
     "text": [
      "successful!\n"
     ]
    }
   ],
   "source": [
    "#載入模型參數\n",
    "try:\n",
    "    model.load_weights(\"cifarcnnmodel.h5\")\n",
    "    print(\"successful!\")\n",
    "except:\n",
    "    print(\"unsuccessful,begin to train a new model!\")"
   ]
  },
  {
   "cell_type": "code",
   "execution_count": null,
   "metadata": {},
   "outputs": [],
   "source": []
  }
 ],
 "metadata": {
  "kernelspec": {
   "display_name": "Python 3",
   "language": "python",
   "name": "python3"
  },
  "language_info": {
   "codemirror_mode": {
    "name": "ipython",
    "version": 3
   },
   "file_extension": ".py",
   "mimetype": "text/x-python",
   "name": "python",
   "nbconvert_exporter": "python",
   "pygments_lexer": "ipython3",
   "version": "3.5.5"
  }
 },
 "nbformat": 4,
 "nbformat_minor": 2
}
