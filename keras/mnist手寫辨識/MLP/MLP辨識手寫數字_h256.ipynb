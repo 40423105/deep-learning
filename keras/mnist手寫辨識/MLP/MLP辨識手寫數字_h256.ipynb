{
 "cells": [
  {
   "cell_type": "code",
   "execution_count": 3,
   "metadata": {},
   "outputs": [
    {
     "data": {
      "text/plain": [
       "'\\n1.資料預處理\\n2.建立模型\\n3.訓練模型\\n4.評估模型準確率\\n5.進行預測\\n'"
      ]
     },
     "execution_count": 3,
     "metadata": {},
     "output_type": "execute_result"
    }
   ],
   "source": [
    "\"\"\"\n",
    "1.資料預處理\n",
    "2.建立模型\n",
    "3.訓練模型\n",
    "4.評估模型準確率\n",
    "5.進行預測\n",
    "\"\"\""
   ]
  },
  {
   "cell_type": "code",
   "execution_count": 4,
   "metadata": {},
   "outputs": [],
   "source": [
    "#匯入模組\n",
    "from keras.utils import np_utils\n",
    "import numpy as np\n",
    "np.random.seed(10)"
   ]
  },
  {
   "cell_type": "code",
   "execution_count": 5,
   "metadata": {},
   "outputs": [],
   "source": [
    "#讀取mnist手寫資料\n",
    "from keras.datasets import mnist\n",
    "(x_train_image,y_train_label),(x_test_image,y_test_label)=mnist.load_data()"
   ]
  },
  {
   "cell_type": "code",
   "execution_count": 7,
   "metadata": {},
   "outputs": [],
   "source": [
    "#將features(數字影像特徵)轉換為一維陣列\n",
    "x_train = x_train_image.reshape(60000,784).astype('float32')\n",
    "x_test = x_test_image.reshape(10000,784).astype('float32')"
   ]
  },
  {
   "cell_type": "code",
   "execution_count": 8,
   "metadata": {},
   "outputs": [],
   "source": [
    "#將影像特徵值標準化\n",
    "x_train_normalize = x_train / 255\n",
    "x_test_normalize = x_test / 255"
   ]
  },
  {
   "cell_type": "code",
   "execution_count": 9,
   "metadata": {},
   "outputs": [],
   "source": [
    "#one-hot encoding\n",
    "y_train_onehot = np_utils.to_categorical(y_train_label)\n",
    "y_test_onehot = np_utils.to_categorical(y_test_label)"
   ]
  },
  {
   "cell_type": "code",
   "execution_count": 10,
   "metadata": {},
   "outputs": [],
   "source": [
    "#建立模型\n",
    "from keras.models import Sequential\n",
    "from keras.layers import Dense"
   ]
  },
  {
   "cell_type": "code",
   "execution_count": 11,
   "metadata": {},
   "outputs": [],
   "source": [
    "#建立線性堆疊模型\n",
    "model = Sequential()"
   ]
  },
  {
   "cell_type": "code",
   "execution_count": 12,
   "metadata": {},
   "outputs": [],
   "source": [
    "#建立輸入層與隱藏層\n",
    "#Dense神經網路層好處:上一層與下一層的神經元，完全連結\n",
    "model.add(Dense(units=256,\n",
    "               input_dim=784,\n",
    "               kernel_initializer='normal',\n",
    "               activation='relu'))"
   ]
  },
  {
   "cell_type": "code",
   "execution_count": 13,
   "metadata": {},
   "outputs": [],
   "source": [
    "#softmax 將神經元的輸出，轉換為預測每一個數字的機率\n",
    "#輸出層不需要建立input _dim因為keras會自動依照上一層的units建立\n",
    "model.add(Dense(units=10,\n",
    "               kernel_initializer='normal',\n",
    "               activation='softmax'))"
   ]
  },
  {
   "cell_type": "code",
   "execution_count": 14,
   "metadata": {},
   "outputs": [
    {
     "name": "stdout",
     "output_type": "stream",
     "text": [
      "Model: \"sequential\"\n",
      "_________________________________________________________________\n",
      "Layer (type)                 Output Shape              Param #   \n",
      "=================================================================\n",
      "dense (Dense)                (None, 256)               200960    \n",
      "_________________________________________________________________\n",
      "dense_1 (Dense)              (None, 10)                2570      \n",
      "=================================================================\n",
      "Total params: 203,530\n",
      "Trainable params: 203,530\n",
      "Non-trainable params: 0\n",
      "_________________________________________________________________\n",
      "None\n"
     ]
    }
   ],
   "source": [
    "#模型摘要\n",
    "print(model.summary())\n",
    "#200960 = 784*256+256  \n",
    "#2570 = 256*10+10 \n",
    "#Total params = 200960+2570\n",
    "#param = 上一層神經元數量 * 本層神經元數量 + 本層神經元數量\n",
    "#param數量越大，模型越複雜，需要更多時間訓練"
   ]
  },
  {
   "cell_type": "code",
   "execution_count": 15,
   "metadata": {},
   "outputs": [],
   "source": [
    "#訓練模型\n",
    "#透過compile方法，對模型進行設定\n",
    "model.compile(loss='categorical_crossentropy',optimizer='adam',metrics=['accuracy'])\n",
    "#loss(loss function):usually use cross_entropy，the result is better than others\n",
    "#optimizer:深度學習使用adam最優化方法，讓訓練更快收斂，提高準確率\n",
    "#metrics:設定評估模型方式-accuracy"
   ]
  },
  {
   "cell_type": "code",
   "execution_count": 16,
   "metadata": {},
   "outputs": [
    {
     "name": "stdout",
     "output_type": "stream",
     "text": [
      "Epoch 1/10\n",
      "240/240 - 1s - loss: 0.4410 - val_loss: 0.2234 - val_accuracy: 0.9398 - accuracy: 0.8851\n",
      "Epoch 2/10\n",
      "240/240 - 1s - loss: 0.1890 - val_loss: 0.1587 - val_accuracy: 0.9556 - accuracy: 0.9465\n",
      "Epoch 3/10\n",
      "240/240 - 1s - loss: 0.1331 - val_loss: 0.1264 - val_accuracy: 0.9637 - accuracy: 0.9620\n",
      "Epoch 4/10\n",
      "240/240 - 1s - loss: 0.1005 - val_loss: 0.1081 - val_accuracy: 0.9690 - accuracy: 0.9720\n",
      "Epoch 5/10\n",
      "240/240 - 1s - loss: 0.0807 - val_loss: 0.1006 - val_accuracy: 0.9696 - accuracy: 0.9772\n",
      "Epoch 6/10\n",
      "240/240 - 1s - loss: 0.0646 - val_loss: 0.0921 - val_accuracy: 0.9712 - accuracy: 0.9817\n",
      "Epoch 7/10\n",
      "240/240 - 1s - loss: 0.0532 - val_loss: 0.0881 - val_accuracy: 0.9737 - accuracy: 0.9850\n",
      "Epoch 8/10\n",
      "240/240 - 1s - loss: 0.0452 - val_loss: 0.0857 - val_accuracy: 0.9728 - accuracy: 0.9874\n",
      "Epoch 9/10\n",
      "240/240 - 1s - loss: 0.0366 - val_loss: 0.0801 - val_accuracy: 0.9747 - accuracy: 0.9909\n",
      "Epoch 10/10\n",
      "240/240 - 1s - loss: 0.0301 - val_loss: 0.0773 - val_accuracy: 0.9760 - accuracy: 0.9926\n"
     ]
    }
   ],
   "source": [
    "#透過model fit開始訓練\n",
    "#x:數字影像特徵\n",
    "#y:label 數字影像\n",
    "#validation_spilt = 0.2   80%訓練資料  20%驗證資料\n",
    "#epochs 10次訓練週期\n",
    "#batch_size =200 每一批次200筆資料\n",
    "#verbose = 2 顯示訊練過程\n",
    "train_history = model.fit(x=x_train_normalize,\n",
    "                          y=y_train_onehot,\n",
    "                          validation_split = 0.2,\n",
    "                          epochs=10,\n",
    "                          batch_size=200,\n",
    "                          verbose=2)\n"
   ]
  },
  {
   "cell_type": "code",
   "execution_count": 18,
   "metadata": {},
   "outputs": [],
   "source": [
    "#顯示訓練過程\n",
    "import matplotlib.pyplot as plt\n",
    "def show_train_history(train_history,train,validation):\n",
    "    plt.plot(train_history.history[train])\n",
    "    plt.plot(train_history.history[validation])\n",
    "    plt.title('Train History')\n",
    "    plt.ylabel('train')\n",
    "    plt.xlabel('Epoch')\n",
    "    plt.legend(['train','validation'],loc='upper left')\n",
    "    plt.show()"
   ]
  },
  {
   "cell_type": "code",
   "execution_count": 19,
   "metadata": {},
   "outputs": [
    {
     "data": {
      "image/png": "[encoded data removed]",
      "text/plain": [
       "<Figure size 432x288 with 1 Axes>"
      ]
     },
     "metadata": {},
     "output_type": "display_data"
    }
   ],
   "source": [
    "show_train_history(train_history,'accuracy','val_accuracy')"
   ]
  },
  {
   "cell_type": "code",
   "execution_count": 20,
   "metadata": {},
   "outputs": [
    {
     "data": {
      "text/plain": [
       "'\\noverfitting\\n訓練過程太久或例子太少，導致過度適應訓練資料中特化且隨機的特徵，雖然在訓練時準確率高，但是用未知資料的計算準確率低\\n'"
      ]
     },
     "execution_count": 20,
     "metadata": {},
     "output_type": "execute_result"
    }
   ],
   "source": [
    "\"\"\"\n",
    "overfitting\n",
    "訓練過程太久或例子太少，導致過度適應訓練資料中特化且隨機的特徵，雖然在訓練時準確率高，但是用未知資料的計算準確率低\n",
    "\"\"\""
   ]
  },
  {
   "cell_type": "code",
   "execution_count": 21,
   "metadata": {},
   "outputs": [
    {
     "data": {
      "image/png": "[encoded data removed]",
      "text/plain": [
       "<Figure size 432x288 with 1 Axes>"
      ]
     },
     "metadata": {},
     "output_type": "display_data"
    }
   ],
   "source": [
    "show_train_history(train_history,'loss','val_loss')"
   ]
  },
  {
   "cell_type": "code",
   "execution_count": 22,
   "metadata": {},
   "outputs": [
    {
     "name": "stdout",
     "output_type": "stream",
     "text": [
      "313/313 [==============================] - 0s 1ms/step - loss: 0.0697 - accuracy: 0.9783\n",
      "accuracy 0.9782999753952026\n"
     ]
    }
   ],
   "source": [
    "#模型準確率\n",
    "scores = model.evaluate(x_test_normalize,y_test_onehot)\n",
    "print('accuracy',scores[1])"
   ]
  },
  {
   "cell_type": "code",
   "execution_count": 25,
   "metadata": {},
   "outputs": [
    {
     "data": {
      "text/plain": [
       "array([7, 2, 1, ..., 4, 5, 6], dtype=int64)"
      ]
     },
     "execution_count": 25,
     "metadata": {},
     "output_type": "execute_result"
    }
   ],
   "source": [
    "#預測\n",
    "prediction = np.argmax(model.predict(x_test), axis=-1)\n",
    "prediction"
   ]
  },
  {
   "cell_type": "code",
   "execution_count": 26,
   "metadata": {},
   "outputs": [],
   "source": [
    "def plot_image_labels_prediction(images,labels,prediction,idx,num=10):\n",
    "    fig = plt.gcf()\n",
    "    fig.set_size_inches(12,14)\n",
    "    if num > 25:\n",
    "        num=25\n",
    "    for i in range(0,num):\n",
    "        ax = plt.subplot(5,5,1+i)\n",
    "        ax.imshow(images[idx],cmap='binary')\n",
    "        title = \"label=\" + str(labels[idx])\n",
    "        if len(prediction) > 0:\n",
    "            title += \",predict=\" + str(prediction[idx])\n",
    "        \n",
    "        ax.set_title(title,fontsize=10)\n",
    "        ax.set_xticks([]);ax.set_yticks([])\n",
    "        idx+=1\n",
    "    plt.show()"
   ]
  },
  {
   "cell_type": "code",
   "execution_count": 27,
   "metadata": {},
   "outputs": [
    {
     "data": {
      "image/png": "[encoded data removed]",
      "text/plain": [
       "<Figure size 864x1008 with 10 Axes>"
      ]
     },
     "metadata": {},
     "output_type": "display_data"
    }
   ],
   "source": [
    "plot_image_labels_prediction(x_test_image,y_test_label,prediction,idx=340)"
   ]
  },
  {
   "cell_type": "code",
   "execution_count": 28,
   "metadata": {},
   "outputs": [
    {
     "data": {
      "text/html": [
       "<div>\n",
       "<style scoped>\n",
       "    .dataframe tbody tr th:only-of-type {\n",
       "        vertical-align: middle;\n",
       "    }\n",
       "\n",
       "    .dataframe tbody tr th {\n",
       "        vertical-align: top;\n",
       "    }\n",
       "\n",
       "    .dataframe thead th {\n",
       "        text-align: right;\n",
       "    }\n",
       "</style>\n",
       "<table border=\"1\" class=\"dataframe\">\n",
       "  <thead>\n",
       "    <tr style=\"text-align: right;\">\n",
       "      <th>predict</th>\n",
       "      <th>0</th>\n",
       "      <th>1</th>\n",
       "      <th>2</th>\n",
       "      <th>3</th>\n",
       "      <th>4</th>\n",
       "      <th>5</th>\n",
       "      <th>6</th>\n",
       "      <th>7</th>\n",
       "      <th>8</th>\n",
       "      <th>9</th>\n",
       "    </tr>\n",
       "    <tr>\n",
       "      <th>label</th>\n",
       "      <th></th>\n",
       "      <th></th>\n",
       "      <th></th>\n",
       "      <th></th>\n",
       "      <th></th>\n",
       "      <th></th>\n",
       "      <th></th>\n",
       "      <th></th>\n",
       "      <th></th>\n",
       "      <th></th>\n",
       "    </tr>\n",
       "  </thead>\n",
       "  <tbody>\n",
       "    <tr>\n",
       "      <th>0</th>\n",
       "      <td>968</td>\n",
       "      <td>0</td>\n",
       "      <td>1</td>\n",
       "      <td>1</td>\n",
       "      <td>2</td>\n",
       "      <td>0</td>\n",
       "      <td>3</td>\n",
       "      <td>1</td>\n",
       "      <td>2</td>\n",
       "      <td>2</td>\n",
       "    </tr>\n",
       "    <tr>\n",
       "      <th>1</th>\n",
       "      <td>0</td>\n",
       "      <td>1124</td>\n",
       "      <td>4</td>\n",
       "      <td>0</td>\n",
       "      <td>0</td>\n",
       "      <td>1</td>\n",
       "      <td>3</td>\n",
       "      <td>0</td>\n",
       "      <td>3</td>\n",
       "      <td>0</td>\n",
       "    </tr>\n",
       "    <tr>\n",
       "      <th>2</th>\n",
       "      <td>5</td>\n",
       "      <td>1</td>\n",
       "      <td>1005</td>\n",
       "      <td>5</td>\n",
       "      <td>1</td>\n",
       "      <td>0</td>\n",
       "      <td>3</td>\n",
       "      <td>7</td>\n",
       "      <td>4</td>\n",
       "      <td>1</td>\n",
       "    </tr>\n",
       "    <tr>\n",
       "      <th>3</th>\n",
       "      <td>0</td>\n",
       "      <td>0</td>\n",
       "      <td>1</td>\n",
       "      <td>994</td>\n",
       "      <td>0</td>\n",
       "      <td>4</td>\n",
       "      <td>0</td>\n",
       "      <td>3</td>\n",
       "      <td>2</td>\n",
       "      <td>6</td>\n",
       "    </tr>\n",
       "    <tr>\n",
       "      <th>4</th>\n",
       "      <td>1</td>\n",
       "      <td>0</td>\n",
       "      <td>2</td>\n",
       "      <td>1</td>\n",
       "      <td>957</td>\n",
       "      <td>0</td>\n",
       "      <td>5</td>\n",
       "      <td>2</td>\n",
       "      <td>1</td>\n",
       "      <td>13</td>\n",
       "    </tr>\n",
       "    <tr>\n",
       "      <th>5</th>\n",
       "      <td>5</td>\n",
       "      <td>0</td>\n",
       "      <td>0</td>\n",
       "      <td>9</td>\n",
       "      <td>1</td>\n",
       "      <td>864</td>\n",
       "      <td>7</td>\n",
       "      <td>1</td>\n",
       "      <td>4</td>\n",
       "      <td>1</td>\n",
       "    </tr>\n",
       "    <tr>\n",
       "      <th>6</th>\n",
       "      <td>4</td>\n",
       "      <td>3</td>\n",
       "      <td>0</td>\n",
       "      <td>1</td>\n",
       "      <td>2</td>\n",
       "      <td>4</td>\n",
       "      <td>943</td>\n",
       "      <td>0</td>\n",
       "      <td>1</td>\n",
       "      <td>0</td>\n",
       "    </tr>\n",
       "    <tr>\n",
       "      <th>7</th>\n",
       "      <td>0</td>\n",
       "      <td>3</td>\n",
       "      <td>6</td>\n",
       "      <td>5</td>\n",
       "      <td>0</td>\n",
       "      <td>0</td>\n",
       "      <td>0</td>\n",
       "      <td>1006</td>\n",
       "      <td>1</td>\n",
       "      <td>7</td>\n",
       "    </tr>\n",
       "    <tr>\n",
       "      <th>8</th>\n",
       "      <td>3</td>\n",
       "      <td>0</td>\n",
       "      <td>3</td>\n",
       "      <td>8</td>\n",
       "      <td>2</td>\n",
       "      <td>4</td>\n",
       "      <td>4</td>\n",
       "      <td>3</td>\n",
       "      <td>943</td>\n",
       "      <td>4</td>\n",
       "    </tr>\n",
       "    <tr>\n",
       "      <th>9</th>\n",
       "      <td>3</td>\n",
       "      <td>5</td>\n",
       "      <td>0</td>\n",
       "      <td>8</td>\n",
       "      <td>7</td>\n",
       "      <td>3</td>\n",
       "      <td>0</td>\n",
       "      <td>1</td>\n",
       "      <td>2</td>\n",
       "      <td>980</td>\n",
       "    </tr>\n",
       "  </tbody>\n",
       "</table>\n",
       "</div>"
      ],
      "text/plain": [
       "predict    0     1     2    3    4    5    6     7    8    9\n",
       "label                                                       \n",
       "0        968     0     1    1    2    0    3     1    2    2\n",
       "1          0  1124     4    0    0    1    3     0    3    0\n",
       "2          5     1  1005    5    1    0    3     7    4    1\n",
       "3          0     0     1  994    0    4    0     3    2    6\n",
       "4          1     0     2    1  957    0    5     2    1   13\n",
       "5          5     0     0    9    1  864    7     1    4    1\n",
       "6          4     3     0    1    2    4  943     0    1    0\n",
       "7          0     3     6    5    0    0    0  1006    1    7\n",
       "8          3     0     3    8    2    4    4     3  943    4\n",
       "9          3     5     0    8    7    3    0     1    2  980"
      ]
     },
     "execution_count": 28,
     "metadata": {},
     "output_type": "execute_result"
    }
   ],
   "source": [
    "#混淆矩陣\n",
    "import pandas as pd\n",
    "pd.crosstab(y_test_label,prediction,rownames=['label'],colnames=['predict'])"
   ]
  },
  {
   "cell_type": "code",
   "execution_count": 31,
   "metadata": {},
   "outputs": [
    {
     "data": {
      "text/html": [
       "<div>\n",
       "<style scoped>\n",
       "    .dataframe tbody tr th:only-of-type {\n",
       "        vertical-align: middle;\n",
       "    }\n",
       "\n",
       "    .dataframe tbody tr th {\n",
       "        vertical-align: top;\n",
       "    }\n",
       "\n",
       "    .dataframe thead th {\n",
       "        text-align: right;\n",
       "    }\n",
       "</style>\n",
       "<table border=\"1\" class=\"dataframe\">\n",
       "  <thead>\n",
       "    <tr style=\"text-align: right;\">\n",
       "      <th></th>\n",
       "      <th>label</th>\n",
       "      <th>predict</th>\n",
       "    </tr>\n",
       "  </thead>\n",
       "  <tbody>\n",
       "    <tr>\n",
       "      <th>340</th>\n",
       "      <td>5</td>\n",
       "      <td>3</td>\n",
       "    </tr>\n",
       "    <tr>\n",
       "      <th>1003</th>\n",
       "      <td>5</td>\n",
       "      <td>3</td>\n",
       "    </tr>\n",
       "    <tr>\n",
       "      <th>1393</th>\n",
       "      <td>5</td>\n",
       "      <td>3</td>\n",
       "    </tr>\n",
       "    <tr>\n",
       "      <th>1670</th>\n",
       "      <td>5</td>\n",
       "      <td>3</td>\n",
       "    </tr>\n",
       "    <tr>\n",
       "      <th>2035</th>\n",
       "      <td>5</td>\n",
       "      <td>3</td>\n",
       "    </tr>\n",
       "    <tr>\n",
       "      <th>2810</th>\n",
       "      <td>5</td>\n",
       "      <td>3</td>\n",
       "    </tr>\n",
       "    <tr>\n",
       "      <th>3902</th>\n",
       "      <td>5</td>\n",
       "      <td>3</td>\n",
       "    </tr>\n",
       "    <tr>\n",
       "      <th>5937</th>\n",
       "      <td>5</td>\n",
       "      <td>3</td>\n",
       "    </tr>\n",
       "    <tr>\n",
       "      <th>5972</th>\n",
       "      <td>5</td>\n",
       "      <td>3</td>\n",
       "    </tr>\n",
       "  </tbody>\n",
       "</table>\n",
       "</div>"
      ],
      "text/plain": [
       "      label  predict\n",
       "340       5        3\n",
       "1003      5        3\n",
       "1393      5        3\n",
       "1670      5        3\n",
       "2035      5        3\n",
       "2810      5        3\n",
       "3902      5        3\n",
       "5937      5        3\n",
       "5972      5        3"
      ]
     },
     "execution_count": 31,
     "metadata": {},
     "output_type": "execute_result"
    }
   ],
   "source": [
    "#查看dataframe\n",
    "df = pd.DataFrame({'label':y_test_label,'predict':prediction})\n",
    "df[(df.label==5)&(df.predict==3)]"
   ]
  },
  {
   "cell_type": "code",
   "execution_count": 33,
   "metadata": {},
   "outputs": [
    {
     "data": {
      "image/png": "[encoded data removed]",
      "text/plain": [
       "<Figure size 864x1008 with 1 Axes>"
      ]
     },
     "metadata": {},
     "output_type": "display_data"
    }
   ],
   "source": [
    "plot_image_labels_prediction(x_test_image,y_test_label,prediction,idx=1003,num = 1)"
   ]
  },
  {
   "cell_type": "code",
   "execution_count": null,
   "metadata": {},
   "outputs": [],
   "source": []
  }
 ],
 "metadata": {
  "kernelspec": {
   "display_name": "Python 3",
   "language": "python",
   "name": "python3"
  },
  "language_info": {
   "codemirror_mode": {
    "name": "ipython",
    "version": 3
   },
   "file_extension": ".py",
   "mimetype": "text/x-python",
   "name": "python",
   "nbconvert_exporter": "python",
   "pygments_lexer": "ipython3",
   "version": "3.5.5"
  }
 },
 "nbformat": 4,
 "nbformat_minor": 2
}
