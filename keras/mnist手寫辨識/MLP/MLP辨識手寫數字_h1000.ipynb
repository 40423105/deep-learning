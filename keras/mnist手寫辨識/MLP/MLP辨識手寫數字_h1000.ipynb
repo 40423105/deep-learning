{
 "cells": [
  {
   "cell_type": "code",
   "execution_count": 1,
   "metadata": {},
   "outputs": [],
   "source": [
    "#匯入模組\n",
    "from keras.utils import np_utils\n",
    "import numpy as np\n",
    "np.random.seed(10)"
   ]
  },
  {
   "cell_type": "code",
   "execution_count": 2,
   "metadata": {},
   "outputs": [],
   "source": [
    "#讀取mnist手寫資料\n",
    "from keras.datasets import mnist\n",
    "(x_train_image,y_train_label),(x_test_image,y_test_label)=mnist.load_data()"
   ]
  },
  {
   "cell_type": "code",
   "execution_count": 3,
   "metadata": {},
   "outputs": [],
   "source": [
    "#將features(數字影像特徵)轉換為一維陣列\n",
    "x_train = x_train_image.reshape(60000,784).astype('float32')\n",
    "x_test = x_test_image.reshape(10000,784).astype('float32')"
   ]
  },
  {
   "cell_type": "code",
   "execution_count": 4,
   "metadata": {},
   "outputs": [],
   "source": [
    "#將影像特徵值標準化\n",
    "x_train_normalize = x_train / 255\n",
    "x_test_normalize = x_test / 255"
   ]
  },
  {
   "cell_type": "code",
   "execution_count": 5,
   "metadata": {},
   "outputs": [],
   "source": [
    "#one-hot encoding\n",
    "y_train_onehot = np_utils.to_categorical(y_train_label)\n",
    "y_test_onehot = np_utils.to_categorical(y_test_label)"
   ]
  },
  {
   "cell_type": "code",
   "execution_count": 6,
   "metadata": {},
   "outputs": [],
   "source": [
    "#建立模型\n",
    "from keras.models import Sequential\n",
    "from keras.layers import Dense"
   ]
  },
  {
   "cell_type": "code",
   "execution_count": 7,
   "metadata": {},
   "outputs": [],
   "source": [
    "#建立線性堆疊模型\n",
    "model = Sequential()"
   ]
  },
  {
   "cell_type": "code",
   "execution_count": 8,
   "metadata": {},
   "outputs": [],
   "source": [
    "#建立輸入層與隱藏層\n",
    "#Dense神經網路層好處:上一層與下一層的神經元，完全連結\n",
    "model.add(Dense(units=1000,\n",
    "               input_dim=784,\n",
    "               kernel_initializer='normal',\n",
    "               activation='relu'))"
   ]
  },
  {
   "cell_type": "code",
   "execution_count": 9,
   "metadata": {},
   "outputs": [],
   "source": [
    "#softmax 將神經元的輸出，轉換為預測每一個數字的機率\n",
    "#輸出層不需要建立input _dim因為keras會自動依照上一層的units建立\n",
    "model.add(Dense(units=10,\n",
    "               kernel_initializer='normal',\n",
    "               activation='softmax'))"
   ]
  },
  {
   "cell_type": "code",
   "execution_count": 10,
   "metadata": {},
   "outputs": [
    {
     "name": "stdout",
     "output_type": "stream",
     "text": [
      "Model: \"sequential\"\n",
      "_________________________________________________________________\n",
      "Layer (type)                 Output Shape              Param #   \n",
      "=================================================================\n",
      "dense (Dense)                (None, 1000)              785000    \n",
      "_________________________________________________________________\n",
      "dense_1 (Dense)              (None, 10)                10010     \n",
      "=================================================================\n",
      "Total params: 795,010\n",
      "Trainable params: 795,010\n",
      "Non-trainable params: 0\n",
      "_________________________________________________________________\n",
      "None\n"
     ]
    }
   ],
   "source": [
    "print(model.summary())"
   ]
  },
  {
   "cell_type": "code",
   "execution_count": 11,
   "metadata": {},
   "outputs": [],
   "source": [
    "#訓練模型\n",
    "#透過compile方法，對模型進行設定\n",
    "model.compile(loss='categorical_crossentropy',optimizer='adam',metrics=['accuracy'])\n",
    "#loss(loss function):usually use cross_entropy，the result is better than others\n",
    "#optimizer:深度學習使用adam最優化方法，讓訓練更快收斂，提高準確率\n",
    "#metrics:設定評估模型方式-accuracy"
   ]
  },
  {
   "cell_type": "code",
   "execution_count": 12,
   "metadata": {},
   "outputs": [
    {
     "name": "stdout",
     "output_type": "stream",
     "text": [
      "Epoch 1/10\n",
      "240/240 - 2s - accuracy: 0.9155 - loss: 0.2909 - val_accuracy: 0.9586 - val_loss: 0.1487\n",
      "Epoch 2/10\n",
      "240/240 - 2s - accuracy: 0.9667 - loss: 0.1162 - val_accuracy: 0.9686 - val_loss: 0.1047\n",
      "Epoch 3/10\n",
      "240/240 - 2s - accuracy: 0.9792 - loss: 0.0740 - val_accuracy: 0.9710 - val_loss: 0.0953\n",
      "Epoch 4/10\n",
      "240/240 - 2s - accuracy: 0.9856 - loss: 0.0517 - val_accuracy: 0.9727 - val_loss: 0.0865\n",
      "Epoch 5/10\n",
      "240/240 - 2s - accuracy: 0.9906 - loss: 0.0355 - val_accuracy: 0.9761 - val_loss: 0.0786\n",
      "Epoch 6/10\n",
      "240/240 - 2s - accuracy: 0.9934 - loss: 0.0261 - val_accuracy: 0.9796 - val_loss: 0.0701\n",
      "Epoch 7/10\n",
      "240/240 - 2s - accuracy: 0.9957 - loss: 0.0181 - val_accuracy: 0.9787 - val_loss: 0.0714\n",
      "Epoch 8/10\n",
      "240/240 - 2s - accuracy: 0.9975 - loss: 0.0130 - val_accuracy: 0.9781 - val_loss: 0.0718\n",
      "Epoch 9/10\n",
      "240/240 - 2s - accuracy: 0.9984 - loss: 0.0095 - val_accuracy: 0.9774 - val_loss: 0.0782\n",
      "Epoch 10/10\n",
      "240/240 - 2s - accuracy: 0.9986 - loss: 0.0075 - val_accuracy: 0.9793 - val_loss: 0.0751\n"
     ]
    }
   ],
   "source": [
    "train_history = model.fit(x=x_train_normalize,\n",
    "                          y=y_train_onehot,\n",
    "                          validation_split = 0.2,\n",
    "                          epochs=10,\n",
    "                          batch_size=200,\n",
    "                          verbose=2)"
   ]
  },
  {
   "cell_type": "code",
   "execution_count": 13,
   "metadata": {},
   "outputs": [],
   "source": [
    "#顯示訓練過程\n",
    "import matplotlib.pyplot as plt\n",
    "def show_train_history(train_history,train,validation):\n",
    "    plt.plot(train_history.history[train])\n",
    "    plt.plot(train_history.history[validation])\n",
    "    plt.title('Train History')\n",
    "    plt.ylabel('train')\n",
    "    plt.xlabel('Epoch')\n",
    "    plt.legend(['train','validation'],loc='upper left')\n",
    "    plt.show()"
   ]
  },
  {
   "cell_type": "code",
   "execution_count": 14,
   "metadata": {},
   "outputs": [
    {
     "data": {
      "image/png": "[encoded data removed]",
      "text/plain": [
       "<Figure size 432x288 with 1 Axes>"
      ]
     },
     "metadata": {},
     "output_type": "display_data"
    }
   ],
   "source": [
    "show_train_history(train_history,'accuracy','val_accuracy')\n",
    "#overfitting問題更嚴重，可以透過加入dropout來解決這個問題\n",
    "#dropout功能是每次訓練迭代時，會隨機地在隱藏層中放棄50%的神經元來避免overfitting"
   ]
  },
  {
   "cell_type": "code",
   "execution_count": 15,
   "metadata": {},
   "outputs": [
    {
     "name": "stdout",
     "output_type": "stream",
     "text": [
      "313/313 [==============================] - 1s 3ms/step - accuracy: 0.9787 - loss: 0.0670\n",
      "accuracy 0.9786999821662903\n"
     ]
    }
   ],
   "source": [
    "#模型準確率\n",
    "scores = model.evaluate(x_test_normalize,y_test_onehot)\n",
    "print('accuracy',scores[1])"
   ]
  },
  {
   "cell_type": "code",
   "execution_count": null,
   "metadata": {},
   "outputs": [],
   "source": []
  }
 ],
 "metadata": {
  "kernelspec": {
   "display_name": "Python 3",
   "language": "python",
   "name": "python3"
  },
  "language_info": {
   "codemirror_mode": {
    "name": "ipython",
    "version": 3
   },
   "file_extension": ".py",
   "mimetype": "text/x-python",
   "name": "python",
   "nbconvert_exporter": "python",
   "pygments_lexer": "ipython3",
   "version": "3.5.5"
  }
 },
 "nbformat": 4,
 "nbformat_minor": 2
}
